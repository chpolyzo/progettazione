{
 "cells": [
  {
   "cell_type": "code",
   "execution_count": 1,
   "id": "aa12ad06-4392-4e52-bdb9-7b60e5e22fdd",
   "metadata": {},
   "outputs": [],
   "source": [
    "import os\n",
    "candidati = ['Pippo', 'Pluto', 'Paperino']\n",
    "\n",
    "def clearConsole():\n",
    "    \"\"\"\n",
    "    Funzione che ha il solo scopo di pulire il video\n",
    "    \"\"\"\n",
    "    command = \"clear\"\n",
    "    os.system(command)"
   ]
  },
  {
   "cell_type": "code",
   "execution_count": 2,
   "id": "17251e78-35b7-4fd3-bbe8-9e314ec609df",
   "metadata": {},
   "outputs": [],
   "source": [
    "def nuova_operazione():\n",
    "    clearConsole()\n",
    "    print(\"Ecco cosa puoi fare:\")\n",
    "    print(\"1 - Nuova votazione\")\n",
    "    print(\"2 - Vedi lista votanti\")\n",
    "    print(\"3 - Risultato votazioni\")\n",
    "    print(\"4 - Vincitore\")\n",
    "    print(\"q - Esci\")\n",
    "    carattere = input(\">>> Inserisci un comando:\")\n",
    "    clearConsole()\n",
    "    return carattere"
   ]
  },
  {
   "cell_type": "code",
   "execution_count": 11,
   "id": "8da0ab14-425d-4f8b-ad4b-828b8cfdac9b",
   "metadata": {},
   "outputs": [],
   "source": [
    "def new_op():\n",
    "    \"\"\"\n",
    "    Funzione che ha il solo scopo di\n",
    "    1. visualizzare le varie voci\n",
    "    2. ricevere l'input dall'utente\n",
    "    input: NIENTE\n",
    "    output: la selezione dell'utente\n",
    "    \"\"\"\n",
    "    \n",
    "    d = {0:\"Ecco cosa puoi fare:\",\n",
    "         1:\"Per Nuova votazione premi 1\",\n",
    "         2:\"Per Vedere la lista dei votanti premi 2\",\n",
    "         3:\"Per il Risultato delle votazioni premi 3\",\n",
    "         4:\"Per vedere il Vincitore premi 4\",\n",
    "         5:\"Per uscire premi 5\" }\n",
    "    clearConsole()\n",
    "    [print(d.get(m)) for m in d];\n",
    "    carattere = input(\">>> Inserisci un comando:\")\n",
    "    clearConsole()\n",
    "    return carattere"
   ]
  },
  {
   "cell_type": "code",
   "execution_count": 12,
   "id": "7a809c1c-3059-446f-b96b-0023a12a6b06",
   "metadata": {},
   "outputs": [
    {
     "name": "stdout",
     "output_type": "stream",
     "text": [
      "Ecco cosa puoi fare:\n",
      "Per Nuova votazione premi 1\n",
      "Per Vedere la lista dei votanti premi 2\n",
      "Per il Risultato delle votazioni premi 3\n",
      "Per vedere il Vincitore premi 4\n",
      "Per uscire premi 5\n"
     ]
    },
    {
     "name": "stdin",
     "output_type": "stream",
     "text": [
      ">>> Inserisci un comando: 1\n"
     ]
    },
    {
     "data": {
      "text/plain": [
       "'1'"
      ]
     },
     "execution_count": 12,
     "metadata": {},
     "output_type": "execute_result"
    }
   ],
   "source": [
    "new_op()"
   ]
  },
  {
   "cell_type": "code",
   "execution_count": 6,
   "id": "e3058569-aa18-4e05-9dd1-bbed32606195",
   "metadata": {},
   "outputs": [
    {
     "data": {
      "text/plain": [
       "'Ecco cosa puoi fare:'"
      ]
     },
     "execution_count": 6,
     "metadata": {},
     "output_type": "execute_result"
    }
   ],
   "source": [
    "d.get(0)"
   ]
  },
  {
   "cell_type": "code",
   "execution_count": 7,
   "id": "c38e1140-d6e1-4b1d-a5ec-8609f1dc66a2",
   "metadata": {},
   "outputs": [
    {
     "name": "stdout",
     "output_type": "stream",
     "text": [
      "Ecco cosa puoi fare:\n",
      "Per Nuova votazione premi 1\n",
      "Per Vedere la lista dei votanti premi 2\n",
      "Per il Risultato delle votazioni premi 3\n",
      "Per vedere il Vincitore premi 4\n",
      "Per uscire premi 5\n"
     ]
    }
   ],
   "source": [
    "[print(d.get(m)) for m in d];"
   ]
  },
  {
   "cell_type": "code",
   "execution_count": 8,
   "id": "13134d4e-6fa2-4e89-ba6b-46d4b6844236",
   "metadata": {},
   "outputs": [
    {
     "data": {
      "text/plain": [
       "'Ecco cosa puoi fare:'"
      ]
     },
     "execution_count": 8,
     "metadata": {},
     "output_type": "execute_result"
    }
   ],
   "source": [
    "d[0]"
   ]
  },
  {
   "cell_type": "code",
   "execution_count": null,
   "id": "878a254b-8ccd-4d2a-892e-bb982caacf79",
   "metadata": {},
   "outputs": [
    {
     "name": "stdout",
     "output_type": "stream",
     "text": [
      "Ecco cosa puoi fare:\n",
      "1 - Nuova votazione\n",
      "2 - Vedi lista votanti\n",
      "3 - Risultato votazioni\n",
      "4 - Vincitore\n",
      "q - Esci\n"
     ]
    }
   ],
   "source": [
    "comando = nuova_operazione()"
   ]
  },
  {
   "cell_type": "code",
   "execution_count": null,
   "id": "51ff9dbf-fd85-4412-a4b0-9384b2c67824",
   "metadata": {},
   "outputs": [],
   "source": []
  }
 ],
 "metadata": {
  "kernelspec": {
   "display_name": "Python 3 (ipykernel)",
   "language": "python",
   "name": "python3"
  },
  "language_info": {
   "codemirror_mode": {
    "name": "ipython",
    "version": 3
   },
   "file_extension": ".py",
   "mimetype": "text/x-python",
   "name": "python",
   "nbconvert_exporter": "python",
   "pygments_lexer": "ipython3",
   "version": "3.12.3"
  }
 },
 "nbformat": 4,
 "nbformat_minor": 5
}

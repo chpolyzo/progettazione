{
 "cells": [
  {
   "cell_type": "code",
   "execution_count": 1,
   "id": "aa12ad06-4392-4e52-bdb9-7b60e5e22fdd",
   "metadata": {},
   "outputs": [],
   "source": [
    "import os\n",
    "candidati = ['Pippo', 'Pluto', 'Paperino']\n",
    "\n",
    "def clearConsole():\n",
    "    \"\"\"\n",
    "    Funzione che ha il solo scopo di pulire il video\n",
    "    \"\"\"\n",
    "    command = \"cls\"\n",
    "    os.system(command)"
   ]
  },
  {
   "cell_type": "code",
   "execution_count": 2,
   "id": "8da0ab14-425d-4f8b-ad4b-828b8cfdac9b",
   "metadata": {},
   "outputs": [],
   "source": [
    "def new_op():\n",
    "    \"\"\"\n",
    "    Funzione che ha il solo scopo di\n",
    "    1. visualizzare le varie voci\n",
    "    2. ricevere l'input dall'utente\n",
    "    input: NIENTE\n",
    "    output: la selezione dell'utente\n",
    "    \"\"\"\n",
    "    \n",
    "    d = {0:\"Ecco cosa puoi fare:\",\n",
    "         1:\"Per votare premi 1\",\n",
    "         2:\"Per Vedere la lista dei votanti premi 2\",\n",
    "         3:\"Per il Risultato delle votazioni premi 3\",\n",
    "         4:\"Per vedere il Vincitore premi 4\",\n",
    "         5:\"Per uscire premi 5\" }\n",
    "    clearConsole()\n",
    "    [print(d.get(m)) for m in d];\n",
    "    carattere = input(\"\\n>>> Inserisci un comando:\\n\")\n",
    "    clearConsole()\n",
    "    return carattere"
   ]
  },
  {
   "cell_type": "code",
   "execution_count": 3,
   "id": "7a809c1c-3059-446f-b96b-0023a12a6b06",
   "metadata": {},
   "outputs": [],
   "source": [
    "class Persona(object):\n",
    "    '''\n",
    "    Persona class:\n",
    "    attributtes:\n",
    "    vota: restituisce la preferenza tra i nomi di una lista\n",
    "    set_voto()\n",
    "    get_name(): \n",
    "    get_voto() :\n",
    "    \n",
    "    \n",
    "    '''\n",
    "    # constructor of Persona class\n",
    "    def __init__(self, nome='Privacy please'):\n",
    "        self.name = nome\n",
    "        self.voto = ''\n",
    "\n",
    "    def set_voto(self, preferenza):\n",
    "        self.voto = preferenza\n",
    "\n",
    "    def get_name(self):\n",
    "        return self.name\n",
    "\n",
    "    def get_voto(self):\n",
    "        return self.voto"
   ]
  },
  {
   "cell_type": "code",
   "execution_count": 55,
   "id": "094f2686-b0a4-4650-a22d-bd3dffdd0500",
   "metadata": {},
   "outputs": [],
   "source": [
    "def inserisci_scelta():\n",
    "    print(print(\"Benvenuto in cabina elettorale!\\nEcco la lista dei candidati\\n\"))\n",
    "\n",
    "    for c in candidati: \n",
    "        print(c)\n",
    "    scelta = input(\"\\nChi vuoi votare?\\n\")\n",
    "    print(\"Hai votato per: {0}\\n\".format(scelta))\n",
    "    \n",
    "    return scelta"
   ]
  },
  {
   "cell_type": "code",
   "execution_count": 59,
   "id": "ce10381a-0cee-4f97-b372-bd104e4c12b3",
   "metadata": {},
   "outputs": [
    {
     "data": {
      "text/plain": [
       "'Paperino'"
      ]
     },
     "execution_count": 59,
     "metadata": {},
     "output_type": "execute_result"
    }
   ],
   "source": [
    "candidati[-1]"
   ]
  },
  {
   "cell_type": "code",
   "execution_count": 56,
   "id": "8de885e2-86e4-4837-b2ea-794d61857d12",
   "metadata": {},
   "outputs": [
    {
     "name": "stdout",
     "output_type": "stream",
     "text": [
      "Pippo\n",
      "Pluto\n",
      "Paperino\n"
     ]
    },
    {
     "data": {
      "text/plain": [
       "[None, None, None]"
      ]
     },
     "execution_count": 56,
     "metadata": {},
     "output_type": "execute_result"
    }
   ],
   "source": [
    "[print(c) for c in candidati if c is not None]"
   ]
  },
  {
   "cell_type": "code",
   "execution_count": 57,
   "id": "478eb248-6b0d-46e6-a04b-169dd206cf7d",
   "metadata": {},
   "outputs": [
    {
     "name": "stdout",
     "output_type": "stream",
     "text": [
      "Benvenuto in cabina elettorale!\n",
      "Ecco la lista dei candidati\n",
      "\n",
      "None\n",
      "Pippo\n",
      "Pluto\n",
      "Paperino\n"
     ]
    },
    {
     "name": "stdin",
     "output_type": "stream",
     "text": [
      "\n",
      "Chi vuoi votare?\n",
      " Pippo\n"
     ]
    },
    {
     "name": "stdout",
     "output_type": "stream",
     "text": [
      "Hai votato per: Pippo\n",
      "\n"
     ]
    }
   ],
   "source": [
    "scelta_personale = inserisci_scelta()"
   ]
  },
  {
   "cell_type": "code",
   "execution_count": 17,
   "id": "c5ba1121-f576-4bb6-a3f4-79d9e0f43da0",
   "metadata": {},
   "outputs": [
    {
     "data": {
      "text/plain": [
       "'Pippo'"
      ]
     },
     "execution_count": 17,
     "metadata": {},
     "output_type": "execute_result"
    }
   ],
   "source": [
    "scelta_personale"
   ]
  },
  {
   "cell_type": "code",
   "execution_count": 7,
   "id": "dacd9884-2613-4a57-a81c-47cf693d280c",
   "metadata": {},
   "outputs": [],
   "source": [
    "def calcola_statistiche(lista):\n",
    "    voti_validi = 0\n",
    "    voti_nulli = 0\n",
    "    astenuti = 0\n",
    "    for votante in lista:\n",
    "        if votante.get_voto() == \"\":\n",
    "            astenuti += 1\n",
    "        elif votante.get_voto() in candidati:\n",
    "            voti_validi +=1\n",
    "        else:\n",
    "            astenuti += 1\n",
    "    return [voti_validi, voti_nulli, astenuti]"
   ]
  },
  {
   "cell_type": "code",
   "execution_count": 8,
   "id": "1b4cbde2-f2ef-45d4-8707-beeaa9edd65e",
   "metadata": {},
   "outputs": [],
   "source": [
    "def totale_voti_candidato(candidato, lista):\n",
    "    voti_candidato = 0\n",
    "    for persona in lista:\n",
    "        if persona.get_voto() == candidato:\n",
    "            voti_candidato += 1\n",
    "    return voti_candidato"
   ]
  },
  {
   "cell_type": "code",
   "execution_count": 23,
   "id": "65350af5-922a-422c-af67-469225f0906f",
   "metadata": {},
   "outputs": [
    {
     "name": "stdout",
     "output_type": "stream",
     "text": [
      "Ecco cosa puoi fare:\n",
      "Per votare premi 1\n",
      "Per Vedere la lista dei votanti premi 2\n",
      "Per il Risultato delle votazioni premi 3\n",
      "Per vedere il Vincitore premi 4\n",
      "Per uscire premi 5\n"
     ]
    },
    {
     "ename": "KeyboardInterrupt",
     "evalue": "Interrupted by user",
     "output_type": "error",
     "traceback": [
      "\u001b[1;31m---------------------------------------------------------------------------\u001b[0m",
      "\u001b[1;31mKeyboardInterrupt\u001b[0m                         Traceback (most recent call last)",
      "Cell \u001b[1;32mIn[23], line 34\u001b[0m\n\u001b[0;32m     31\u001b[0m         \u001b[38;5;28mprint\u001b[39m(\u001b[38;5;124m\"\u001b[39m\u001b[38;5;124mVincitore: \u001b[39m\u001b[38;5;124m\"\u001b[39m \u001b[38;5;241m+\u001b[39m \u001b[38;5;28mstr\u001b[39m(vincitore))\n\u001b[0;32m     32\u001b[0m     \u001b[38;5;66;03m# la comando non è tra quelle previste\u001b[39;00m\n\u001b[0;32m     33\u001b[0m     \u001b[38;5;66;03m#print(\"Attenzione, inserisci un comando valido\")\u001b[39;00m\n\u001b[1;32m---> 34\u001b[0m     comando \u001b[38;5;241m=\u001b[39m \u001b[43mnew_op\u001b[49m\u001b[43m(\u001b[49m\u001b[43m)\u001b[49m\n\u001b[0;32m     35\u001b[0m \u001b[38;5;28mprint\u001b[39m(\u001b[38;5;124m\"\u001b[39m\u001b[38;5;124mArrivederci\u001b[39m\u001b[38;5;124m\"\u001b[39m)\n",
      "Cell \u001b[1;32mIn[11], line 18\u001b[0m, in \u001b[0;36mnew_op\u001b[1;34m()\u001b[0m\n\u001b[0;32m     16\u001b[0m clearConsole()\n\u001b[0;32m     17\u001b[0m [\u001b[38;5;28mprint\u001b[39m(d\u001b[38;5;241m.\u001b[39mget(m)) \u001b[38;5;28;01mfor\u001b[39;00m m \u001b[38;5;129;01min\u001b[39;00m d];\n\u001b[1;32m---> 18\u001b[0m carattere \u001b[38;5;241m=\u001b[39m \u001b[38;5;28;43minput\u001b[39;49m\u001b[43m(\u001b[49m\u001b[38;5;124;43m\"\u001b[39;49m\u001b[38;5;124;43m>>> Inserisci un comando:\u001b[39;49m\u001b[38;5;124;43m\"\u001b[39;49m\u001b[43m)\u001b[49m\n\u001b[0;32m     19\u001b[0m clearConsole()\n\u001b[0;32m     20\u001b[0m \u001b[38;5;28;01mreturn\u001b[39;00m carattere\n",
      "File \u001b[1;32m~\\miniconda3\\envs\\progettazione\\Lib\\site-packages\\ipykernel\\kernelbase.py:1282\u001b[0m, in \u001b[0;36mKernel.raw_input\u001b[1;34m(self, prompt)\u001b[0m\n\u001b[0;32m   1280\u001b[0m     msg \u001b[38;5;241m=\u001b[39m \u001b[38;5;124m\"\u001b[39m\u001b[38;5;124mraw_input was called, but this frontend does not support input requests.\u001b[39m\u001b[38;5;124m\"\u001b[39m\n\u001b[0;32m   1281\u001b[0m     \u001b[38;5;28;01mraise\u001b[39;00m StdinNotImplementedError(msg)\n\u001b[1;32m-> 1282\u001b[0m \u001b[38;5;28;01mreturn\u001b[39;00m \u001b[38;5;28;43mself\u001b[39;49m\u001b[38;5;241;43m.\u001b[39;49m\u001b[43m_input_request\u001b[49m\u001b[43m(\u001b[49m\n\u001b[0;32m   1283\u001b[0m \u001b[43m    \u001b[49m\u001b[38;5;28;43mstr\u001b[39;49m\u001b[43m(\u001b[49m\u001b[43mprompt\u001b[49m\u001b[43m)\u001b[49m\u001b[43m,\u001b[49m\n\u001b[0;32m   1284\u001b[0m \u001b[43m    \u001b[49m\u001b[38;5;28;43mself\u001b[39;49m\u001b[38;5;241;43m.\u001b[39;49m\u001b[43m_parent_ident\u001b[49m\u001b[43m[\u001b[49m\u001b[38;5;124;43m\"\u001b[39;49m\u001b[38;5;124;43mshell\u001b[39;49m\u001b[38;5;124;43m\"\u001b[39;49m\u001b[43m]\u001b[49m\u001b[43m,\u001b[49m\n\u001b[0;32m   1285\u001b[0m \u001b[43m    \u001b[49m\u001b[38;5;28;43mself\u001b[39;49m\u001b[38;5;241;43m.\u001b[39;49m\u001b[43mget_parent\u001b[49m\u001b[43m(\u001b[49m\u001b[38;5;124;43m\"\u001b[39;49m\u001b[38;5;124;43mshell\u001b[39;49m\u001b[38;5;124;43m\"\u001b[39;49m\u001b[43m)\u001b[49m\u001b[43m,\u001b[49m\n\u001b[0;32m   1286\u001b[0m \u001b[43m    \u001b[49m\u001b[43mpassword\u001b[49m\u001b[38;5;241;43m=\u001b[39;49m\u001b[38;5;28;43;01mFalse\u001b[39;49;00m\u001b[43m,\u001b[49m\n\u001b[0;32m   1287\u001b[0m \u001b[43m\u001b[49m\u001b[43m)\u001b[49m\n",
      "File \u001b[1;32m~\\miniconda3\\envs\\progettazione\\Lib\\site-packages\\ipykernel\\kernelbase.py:1325\u001b[0m, in \u001b[0;36mKernel._input_request\u001b[1;34m(self, prompt, ident, parent, password)\u001b[0m\n\u001b[0;32m   1322\u001b[0m \u001b[38;5;28;01mexcept\u001b[39;00m \u001b[38;5;167;01mKeyboardInterrupt\u001b[39;00m:\n\u001b[0;32m   1323\u001b[0m     \u001b[38;5;66;03m# re-raise KeyboardInterrupt, to truncate traceback\u001b[39;00m\n\u001b[0;32m   1324\u001b[0m     msg \u001b[38;5;241m=\u001b[39m \u001b[38;5;124m\"\u001b[39m\u001b[38;5;124mInterrupted by user\u001b[39m\u001b[38;5;124m\"\u001b[39m\n\u001b[1;32m-> 1325\u001b[0m     \u001b[38;5;28;01mraise\u001b[39;00m \u001b[38;5;167;01mKeyboardInterrupt\u001b[39;00m(msg) \u001b[38;5;28;01mfrom\u001b[39;00m \u001b[38;5;28;01mNone\u001b[39;00m\n\u001b[0;32m   1326\u001b[0m \u001b[38;5;28;01mexcept\u001b[39;00m \u001b[38;5;167;01mException\u001b[39;00m:\n\u001b[0;32m   1327\u001b[0m     \u001b[38;5;28mself\u001b[39m\u001b[38;5;241m.\u001b[39mlog\u001b[38;5;241m.\u001b[39mwarning(\u001b[38;5;124m\"\u001b[39m\u001b[38;5;124mInvalid Message:\u001b[39m\u001b[38;5;124m\"\u001b[39m, exc_info\u001b[38;5;241m=\u001b[39m\u001b[38;5;28;01mTrue\u001b[39;00m)\n",
      "\u001b[1;31mKeyboardInterrupt\u001b[0m: Interrupted by user"
     ]
    }
   ],
   "source": [
    "def nomina_vincitore(lista):\n",
    "    for candidato in candidati:\n",
    "        voti_candidato = totale_voti_candidato(candidato, lista)\n",
    "        print(\"Il candidato \"+str(candidato)+ \" ha riportato \"+str(voti_candidato)+\" voti.\")\n",
    "\n",
    "\n",
    "comando = new_op\n",
    "lista_votanti = []\n",
    "while comando != 'q':\n",
    "    if comando == \"1\":\n",
    "        nome_persona = input(\"chi sta votando? [invio per anonimato]\")\n",
    "        if len(nome_persona)>0:\n",
    "            nuovo_oggetto_persona = Persona(nome_persona)\n",
    "        else:\n",
    "            nuovo_oggetto_persona = Persona()\n",
    "        scelta_personale = inserisci_scelta()\n",
    "        nuovo_oggetto_persona.set_voto(scelta_personale)\n",
    "        lista_votanti.append(nuovo_oggetto_persona)\n",
    "    if comando == \"2\":\n",
    "        print(\"Numero votanti: \"+str(len(lista_votanti)))\n",
    "        for persona in lista_votanti:\n",
    "            print(\"---> \"+str(persona.get_name()))\n",
    "    if comando == \"3\":\n",
    "        [voti_validi, voti_nulli, astenuti] = calcola_statistiche(lista_votanti)\n",
    "        print(\"Numero registrati: \"+str(len(lista_votanti)))\n",
    "        print(\"Numero voti validi: \"+str(voti_validi))\n",
    "        print(\"Numero voti nulli: \"+str(voti_nulli))\n",
    "        print(\"Numero astenuti: \" + str(astenuti))\n",
    "    if comando == \"4\":\n",
    "        vincitore = nomina_vincitore(lista_votanti)\n",
    "        print(\"Vincitore: \" + str(vincitore))\n",
    "    # la comando non è tra quelle previste\n",
    "    #print(\"Attenzione, inserisci un comando valido\")\n",
    "    comando = new_op()\n",
    "print(\"Arrivederci\")"
   ]
  },
  {
   "cell_type": "code",
   "execution_count": 6,
   "id": "e3058569-aa18-4e05-9dd1-bbed32606195",
   "metadata": {},
   "outputs": [
    {
     "data": {
      "text/plain": [
       "'Ecco cosa puoi fare:'"
      ]
     },
     "execution_count": 6,
     "metadata": {},
     "output_type": "execute_result"
    }
   ],
   "source": [
    "d.get(0)"
   ]
  },
  {
   "cell_type": "code",
   "execution_count": 7,
   "id": "c38e1140-d6e1-4b1d-a5ec-8609f1dc66a2",
   "metadata": {},
   "outputs": [
    {
     "name": "stdout",
     "output_type": "stream",
     "text": [
      "Ecco cosa puoi fare:\n",
      "Per Nuova votazione premi 1\n",
      "Per Vedere la lista dei votanti premi 2\n",
      "Per il Risultato delle votazioni premi 3\n",
      "Per vedere il Vincitore premi 4\n",
      "Per uscire premi 5\n"
     ]
    }
   ],
   "source": [
    "[print(d.get(m)) for m in d];"
   ]
  },
  {
   "cell_type": "code",
   "execution_count": 8,
   "id": "13134d4e-6fa2-4e89-ba6b-46d4b6844236",
   "metadata": {},
   "outputs": [
    {
     "data": {
      "text/plain": [
       "'Ecco cosa puoi fare:'"
      ]
     },
     "execution_count": 8,
     "metadata": {},
     "output_type": "execute_result"
    }
   ],
   "source": [
    "d[0]"
   ]
  },
  {
   "cell_type": "markdown",
   "id": "16a248a6-6753-4782-a918-f1f3dc66f023",
   "metadata": {},
   "source": [
    "Vengono forniti da tastiera i risultati di un referendum:\n",
    "– Numero iscritti a votare\n",
    "– Numero votanti\n",
    "– Numero si\n",
    "– Numero no\n",
    "Calcolare la percentuale di votanti sul totale degli iscritti, le\n",
    "percentuali dei si e dei no rispetto al numero dei votanti"
   ]
  },
  {
   "cell_type": "code",
   "execution_count": null,
   "id": "fbf884d5-6c0c-4683-8df1-75a27c5a57dd",
   "metadata": {},
   "outputs": [],
   "source": [
    "'''\n",
    "We define a class called Election.\n",
    "'''\n",
    "class Election:\n",
    "    '''\n",
    "    The __init__ method initializes the attributes representing the number of registered voters, total voters, yes votes, and no votes.\n",
    "    '''\n",
    "    def __init__(self):\n",
    "        self.registered_voters = 0\n",
    "        self.total_voters = 0\n",
    "        self.yes_votes = 0\n",
    "        self.no_votes = 0\n",
    "\n",
    "    '''\n",
    "    The input_results method prompts the user to input the relevant data.\n",
    "    include a validation step within the input_results method to ensure that the number of voters \n",
    "    is not more than the number of registered voters.\n",
    "    After taking input for the number of voters (self.total_voters), it enters a while loop.\n",
    "    Inside the loop, it checks if the number of voters (self.total_voters) \n",
    "    is less than or equal to the number of registered voters (self.registered_voters).\n",
    "    If the condition is met (i.e., the number of voters is not more than the number of registered voters), the loop breaks.\n",
    "    If the condition is not met (i.e., the number of voters is more than the number of registered voters), \n",
    "    it displays an error message and prompts the user to enter the number of voters again until a valid input is provided.\n",
    "    '''\n",
    "    def input_results(self):\n",
    "        self.registered_voters = int(input(\"Enter the number of registered voters: \"))\n",
    "        while True:\n",
    "            self.total_voters = int(input(\"Enter the number of voters: \"))\n",
    "            if self.total_voters <= self.registered_voters:\n",
    "                break\n",
    "            else:\n",
    "                print(\"Error: Number of voters cannot exceed the number of registered voters.\")\n",
    "        self.yes_votes = int(input(\"Enter the number of 'Yes' votes: \"))\n",
    "        self.no_votes = int(input(\"Enter the number of 'No' votes: \"))\n",
    "\n",
    "\n",
    "\n",
    "    '''\n",
    "    The calculate_voter_percentage, calculate_yes_percentage, and calculate_no_percentage methods calculate the respective percentages.\n",
    "    '''\n",
    "\n",
    "    def calculate_voter_percentage(self):\n",
    "        return (self.total_voters / self.registered_voters) * 100\n",
    "\n",
    "    def calculate_yes_percentage(self):\n",
    "        return (self.yes_votes / self.total_voters) * 100\n",
    "\n",
    "    def calculate_no_percentage(self):\n",
    "        return (self.no_votes / self.total_voters) * 100\n",
    "        \n",
    "    '''\n",
    "    The display_results method prints the calculated percentages.\n",
    "    '''\n",
    "    \n",
    "    def display_results(self):\n",
    "        print(\"Percentage of voters out of total registered:\", self.calculate_voter_percentage(), \"%\")\n",
    "        print(\"Percentage of 'Yes' votes:\", self.calculate_yes_percentage(), \"%\")\n",
    "        print(\"Percentage of 'No' votes:\", self.calculate_no_percentage(), \"%\")\n",
    "\n",
    "\n",
    "'''\n",
    "In the main program, we create an instance of the Referendum class, input the results, and display the calculated percentages.\n",
    "'''\n",
    "\n",
    "# Main program\n",
    "if __name__ == \"__main__\":\n",
    "    referendum = Election()\n",
    "    referendum.input_results()\n",
    "    referendum.display_results()\n"
   ]
  },
  {
   "cell_type": "markdown",
   "id": "6f90cf33-d9e9-4115-a123-d65b4a718856",
   "metadata": {},
   "source": [
    "Scrivere un programma che legge in ingresso un carattere e stampa\n",
    "se corrisponde a una cifra o a una lettera alfabetica o a un altro\n",
    "carattere, nel caso sia una lettera segnalare il caso particolare che\n",
    "sia una vocale o una consonante e il caso particolare che sia\n",
    "minuscola. Es:\n",
    "• 3 cifra\n",
    "• D lettera consonante\n",
    "• e lettera vocale minuscola\n",
    "• d lettera consonante minuscola\n",
    "• E lettera vocale\n",
    "• < altro carattere"
   ]
  },
  {
   "cell_type": "code",
   "execution_count": null,
   "id": "ebd6e81b-970a-48ea-8853-a2af123b13ba",
   "metadata": {},
   "outputs": [],
   "source": [
    "def check_character(char):\n",
    "    if char.isdigit():\n",
    "        print(char, \"digit\")\n",
    "    elif char.isalpha():\n",
    "        if char.lower() in 'aeiou':\n",
    "            print(char, \"lowercase vowel letter\")\n",
    "        else:\n",
    "            print(char, \"lowercase consonant letter\")\n",
    "    else:\n",
    "        print(char, \"other character\")\n",
    "\n",
    "\n",
    "if __name__ == \"__main__\":\n",
    "    char_input = input(\"Enter a character: \")\n",
    "\n",
    "    if len(char_input) == 1:\n",
    "        check_character(char_input)\n",
    "    else:\n",
    "        print(\"Please enter only one character.\")\n"
   ]
  },
  {
   "cell_type": "markdown",
   "id": "ef2a0593-4357-476b-8372-9361deba4e72",
   "metadata": {},
   "source": [
    "The function check_character takes a character as input and checks its type.\n",
    "If the character is a digit (char.isdigit()), it prints that it is a digit.\n",
    "If the character is an alphabetical letter (char.isalpha()), it further checks whether it is a vowel or a consonant by converting it to lowercase. If it's a vowel, it prints it as a lowercase vowel letter; otherwise, it prints it as a lowercase consonant letter.\n",
    "If the character is neither a digit nor an alphabetical letter, it prints it as \"other character\".\n",
    "In the main program, it takes a character as input from the user and checks if the input consists of only one character. If so, it calls the check_character function; otherwise, it prompts the user to enter only one character."
   ]
  },
  {
   "cell_type": "code",
   "execution_count": null,
   "id": "7ae92e3c-805b-4783-ab8d-a79f456ac085",
   "metadata": {},
   "outputs": [],
   "source": []
  }
 ],
 "metadata": {
  "kernelspec": {
   "display_name": "Python 3 (ipykernel)",
   "language": "python",
   "name": "python3"
  },
  "language_info": {
   "codemirror_mode": {
    "name": "ipython",
    "version": 3
   },
   "file_extension": ".py",
   "mimetype": "text/x-python",
   "name": "python",
   "nbconvert_exporter": "python",
   "pygments_lexer": "ipython3",
   "version": "3.12.3"
  }
 },
 "nbformat": 4,
 "nbformat_minor": 5
}

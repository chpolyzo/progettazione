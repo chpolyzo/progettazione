{
 "cells": [
  {
   "cell_type": "code",
   "execution_count": 16,
   "id": "eb7d8f81-ca77-4c48-a0dd-2e15baea771c",
   "metadata": {},
   "outputs": [],
   "source": [
    "class Impiegato(object):\n",
    "\n",
    "    def __init__(self):\n",
    "        self.nome = ''\n",
    "        self.cognome = ''\n",
    "        self.matricola = ''\n",
    "        self.stipendio = 0\n",
    "        \n",
    "    def set_dettagli(self, name, lastname, impiegato_id, wage):\n",
    "        self.nome = name\n",
    "        self.cognome = lastname\n",
    "        self.matricola = impiegato_id\n",
    "        self.stipendio = wage\n",
    "\n",
    "    def get_dettagli(self):\n",
    "        return self.nome, self.cognome, self.matricola, self.stipendio\n",
    "\n",
    "    def aumenta_stipendio(self):\n",
    "        return self.stipendio * 1.1\n",
    "\n",
    "    def stampa_dettagli(self):\n",
    "        print(\"Nome: {0}\".format(self.nome))\n",
    "        print(\"Cognome: {0}\".format(self.cognome))\n",
    "        print(\"Matricola: {0}\".format(self.matricola))\n",
    "        print(\"Stipendio: {0}\".format(self.stipendio))"
   ]
  },
  {
   "cell_type": "code",
   "execution_count": 44,
   "id": "b26fe223-8d9a-48ed-9322-1acbf4e0092c",
   "metadata": {},
   "outputs": [],
   "source": [
    "def comando_menu():\n",
    "    comandi = {\n",
    "        0:\"Scegli un'operazione:\",\n",
    "        1:\"Aggiungi impiegato: 1\",\n",
    "        2:\"Aumenta stipendio di tutti: 2\",\n",
    "        3:\"Aumenta stipendio singolo: 3\",\n",
    "        4:\"Stampa lista impiegati: 4\",\n",
    "        5:\"Esci: 5\"\n",
    "    }\n",
    "    for c in comandi:\n",
    "        print(comandi.get(c))\n",
    "    \n",
    "    comando = input(\"Inserisci ora il comando:\")\n",
    "    return comando\n"
   ]
  },
  {
   "cell_type": "code",
   "execution_count": null,
   "id": "156bd0e0-8a97-4028-9f6c-0e19b2ed6a02",
   "metadata": {},
   "outputs": [],
   "source": [
    "lista_impiegati = []\n",
    "comando = comando_menu()\n",
    "while comando != \"5\":\n",
    "    if comando == \"1\":\n",
    "        # aggiungi impiegato\n",
    "        nome = input(\"Inserisci nome:\")\n",
    "        cognome = input(\"Inserisci cognome:\")\n",
    "        matricola = input(\"Inserisci matricola:\")\n",
    "        stipendio = int(input(\"Inserisci stipendio:\"))\n",
    "        oggetto = Impiegato(nome, cognome, matricola, stipendio)\n",
    "        lista_impiegati.append(oggetto)\n",
    "    elif comando == \"2\":\n",
    "        # aumenta tutti gli stipendi\n",
    "        for elemento in lista_impiegati:\n",
    "            elemento.aumenta_stipendio()\n",
    "    elif comando == \"3\":\n",
    "        # aumenta uno stipendio\n",
    "        matricola = input(\"Cerca matricola:\")\n",
    "        trovato = False\n",
    "        for elemento in lista_impiegati:\n",
    "            if elemento.matricola == matricola:\n",
    "                elemento.aumenta_stipendio()\n",
    "                trovato = True\n",
    "        if not trovato:\n",
    "            print(\"L'utente cercato non esiste\")\n",
    "        else:\n",
    "            print(\"Aumentato\")\n",
    "    elif comando == \"4\":\n",
    "        # stampa lista\n",
    "        for elemento in lista_impiegati:\n",
    "            elemento.stampa_dettagli()\n",
    "    else:\n",
    "        print(\"Inserisci un comando valido\")\n",
    "    comando = comando_menu()\n",
    "print(\"Programma terminato\")"
   ]
  },
  {
   "cell_type": "code",
   "execution_count": 46,
   "id": "28c3d131-89a7-4cb9-a40b-f287d00910ed",
   "metadata": {},
   "outputs": [
    {
     "name": "stdout",
     "output_type": "stream",
     "text": [
      "Scegli un'operazione:\n",
      "Aggiungi impiegato: 1\n",
      "Aumenta stipendio di tutti: 2\n",
      "Aumenta stipendio singolo: 3\n",
      "Stampa lista impiegati: 4\n",
      "Esci: 5\n"
     ]
    },
    {
     "name": "stdin",
     "output_type": "stream",
     "text": [
      "Inserisci ora il comando: 1\n"
     ]
    },
    {
     "data": {
      "text/plain": [
       "'1'"
      ]
     },
     "execution_count": 46,
     "metadata": {},
     "output_type": "execute_result"
    }
   ],
   "source": [
    "comando_menu()"
   ]
  },
  {
   "cell_type": "code",
   "execution_count": 17,
   "id": "9fcbb32b-a272-43c5-85cf-1012aea308e2",
   "metadata": {},
   "outputs": [],
   "source": [
    "Cri = Impiegato()"
   ]
  },
  {
   "cell_type": "code",
   "execution_count": 18,
   "id": "fc69a6e9-4053-404a-b75c-8ffa14dfa915",
   "metadata": {},
   "outputs": [],
   "source": [
    "Cri.set_dettagli('Chrysanthi', 'Polyzoni', '3839', 2000)"
   ]
  },
  {
   "cell_type": "code",
   "execution_count": 19,
   "id": "a17f3a2f-0391-4544-950e-7520ef1dbbf9",
   "metadata": {},
   "outputs": [
    {
     "name": "stdout",
     "output_type": "stream",
     "text": [
      "Nome: Chrysanthi\n",
      "Cognome: Polyzoni\n",
      "Matricola: 3839\n",
      "Stipendio: 2000\n"
     ]
    }
   ],
   "source": [
    "Cri.stampa_dettagli()"
   ]
  },
  {
   "cell_type": "code",
   "execution_count": 20,
   "id": "73650041-b8f9-4a1a-9288-98cea8d4f52d",
   "metadata": {},
   "outputs": [
    {
     "data": {
      "text/plain": [
       "('Chrysanthi', 'Polyzoni', '3839', 2000)"
      ]
     },
     "execution_count": 20,
     "metadata": {},
     "output_type": "execute_result"
    }
   ],
   "source": [
    "Cri.get_dettagli()"
   ]
  },
  {
   "cell_type": "code",
   "execution_count": 21,
   "id": "77654568-511f-460d-97fe-5d528b19a51a",
   "metadata": {},
   "outputs": [
    {
     "data": {
      "text/plain": [
       "2200.0"
      ]
     },
     "execution_count": 21,
     "metadata": {},
     "output_type": "execute_result"
    }
   ],
   "source": [
    "Cri.aumenta_stipendio()"
   ]
  },
  {
   "cell_type": "code",
   "execution_count": null,
   "id": "847f8f91-6de4-474f-93b2-4d1f5bd2354b",
   "metadata": {},
   "outputs": [],
   "source": []
  }
 ],
 "metadata": {
  "kernelspec": {
   "display_name": "Python 3 (ipykernel)",
   "language": "python",
   "name": "python3"
  },
  "language_info": {
   "codemirror_mode": {
    "name": "ipython",
    "version": 3
   },
   "file_extension": ".py",
   "mimetype": "text/x-python",
   "name": "python",
   "nbconvert_exporter": "python",
   "pygments_lexer": "ipython3",
   "version": "3.12.3"
  }
 },
 "nbformat": 4,
 "nbformat_minor": 5
}

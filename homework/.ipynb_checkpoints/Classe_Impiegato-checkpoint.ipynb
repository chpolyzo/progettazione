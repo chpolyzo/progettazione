{
 "cells": [
  {
   "cell_type": "code",
   "execution_count": 1,
   "id": "eb7d8f81-ca77-4c48-a0dd-2e15baea771c",
   "metadata": {},
   "outputs": [],
   "source": [
    "class Impiegato(object):\n",
    "\n",
    "    def __init__(self):\n",
    "        self.nome = ''\n",
    "        self.cognome = ''\n",
    "        self.matricola = ''\n",
    "        self.stipendio = 0\n",
    "        \n",
    "    def set_dettagli(self, name, lastname, impiegato_id, wage):\n",
    "        self.nome = name\n",
    "        self.cognome = lastname\n",
    "        self.matricola = impiegato_id\n",
    "        self.stipendio = wage\n",
    "\n",
    "    def get_dettagli(self):\n",
    "        return self.nome, self.cognome, self.matricola, self.stipendio\n",
    "\n",
    "    def aumenta_stipendio(self):\n",
    "        return self.stipendio * 1.1\n",
    "\n",
    "    def stampa_dettagli(self):\n",
    "        print(\"Nome: {0}\".format(self.nome))\n",
    "        print(\"Cognome: {0}\".format(self.cognome))\n",
    "        print(\"Matricola: {0}\".format(self.matricola))\n",
    "        print(\"Stipendio: {0}\".format(self.stipendio))"
   ]
  },
  {
   "cell_type": "code",
   "execution_count": 2,
   "id": "b26fe223-8d9a-48ed-9322-1acbf4e0092c",
   "metadata": {},
   "outputs": [],
   "source": [
    "def comando_menu():\n",
    "    comandi = {\n",
    "        \"Scegli un'operazione:\":'',\n",
    "        \"Aggiungi impiegato\":'- 1',\n",
    "        \"Aumenta stipendio di tutti\":'- 2',\n",
    "        \"Aumenta stipendio singolo\":'- 3',\n",
    "        \"Stampa lista impiegati\": '- 4',\n",
    "        \"Esci\":'- 5'\n",
    "    }\n",
    "    for v, k in comandi.items():\n",
    "        print(v,k)\n",
    "    \n",
    "    comando = input(\"Inserisci ora il comando:\")\n",
    "    return comando"
   ]
  },
  {
   "cell_type": "code",
   "execution_count": 3,
   "id": "0ce14443-a5be-403e-b8cf-7f88126c29b2",
   "metadata": {},
   "outputs": [],
   "source": [
    "def aggiungi_impiegato():\n",
    "        nome = input(\"Inserisci nome:\")\n",
    "        cognome = input(\"Inserisci cognome:\")\n",
    "        matricola = input(\"Inserisci matricola:\")\n",
    "        stipendio = int(input(\"Inserisci stipendio:\"))\n",
    "        oggetto = Impiegato()\n",
    "        oggetto.set_dettagli(nome, cognome, matricola, stipendio)\n",
    "        oggetto.get_dettagli()\n",
    "        print(\"\\nHai inserito i seguenti dati:\")\n",
    "        oggetto.stampa_dettagli()\n",
    "        print(\"\\n\")\n",
    "        return oggetto"
   ]
  },
  {
   "cell_type": "code",
   "execution_count": 4,
   "id": "9792c47a-168e-45a6-9680-5d75d21fa372",
   "metadata": {},
   "outputs": [],
   "source": [
    "def aumenta_tutti_stipendi(lista_impiegati):\n",
    "    return [impiegato.aumenta_stipendio() for impiegato in lista_impiegati]"
   ]
  },
  {
   "cell_type": "code",
   "execution_count": 5,
   "id": "a9b2e80b-4518-48ad-81c5-a869caf0744a",
   "metadata": {},
   "outputs": [],
   "source": [
    "def trova_e_aumenta(impiegato, lista_impiegati):\n",
    "    matricola = input(\"Cerca matricola:\")\n",
    "    try:\n",
    "        if impiegato.matricola in lista_impiegati:\n",
    "            impiegato.aumenta_stipendio() \n",
    "        print(\"Aumentato\")\n",
    "    except ValueError:\n",
    "        print(\"L'utente cercato non esiste\")"
   ]
  },
  {
   "cell_type": "code",
   "execution_count": 6,
   "id": "956d4a91-9a16-414b-bef1-3360a82eefee",
   "metadata": {},
   "outputs": [],
   "source": [
    "def stampa_lista(lista_impiegati):\n",
    "    return [impiegato.stampa_dettagli() for impiegato in lista_impiegati]"
   ]
  },
  {
   "cell_type": "code",
   "execution_count": 7,
   "id": "30df34d8-6312-43b0-9628-d25e61c4074b",
   "metadata": {},
   "outputs": [
    {
     "name": "stdout",
     "output_type": "stream",
     "text": [
      "Scegli un'operazione: \n",
      "Aggiungi impiegato - 1\n",
      "Aumenta stipendio di tutti - 2\n",
      "Aumenta stipendio singolo - 3\n",
      "Stampa lista impiegati - 4\n",
      "Esci - 5\n"
     ]
    },
    {
     "name": "stdin",
     "output_type": "stream",
     "text": [
      "Inserisci ora il comando: 1\n",
      "Inserisci nome: Chrysanthi\n",
      "Inserisci cognome: Polyzoni\n",
      "Inserisci matricola: 3938\n",
      "Inserisci stipendio: 20000\n"
     ]
    },
    {
     "name": "stdout",
     "output_type": "stream",
     "text": [
      "\n",
      "Hai inserito i seguenti dati:\n",
      "Nome: Chrysanthi\n",
      "Cognome: Polyzoni\n",
      "Matricola: 3938\n",
      "Stipendio: 20000\n",
      "\n",
      "\n",
      "Scegli un'operazione: \n",
      "Aggiungi impiegato - 1\n",
      "Aumenta stipendio di tutti - 2\n",
      "Aumenta stipendio singolo - 3\n",
      "Stampa lista impiegati - 4\n",
      "Esci - 5\n"
     ]
    },
    {
     "name": "stdin",
     "output_type": "stream",
     "text": [
      "Inserisci ora il comando: 1\n",
      "Inserisci nome: Marilu\n",
      "Inserisci cognome: Basilico\n",
      "Inserisci matricola: 2989\n",
      "Inserisci stipendio: 300000\n"
     ]
    },
    {
     "name": "stdout",
     "output_type": "stream",
     "text": [
      "\n",
      "Hai inserito i seguenti dati:\n",
      "Nome: Marilu\n",
      "Cognome: Basilico\n",
      "Matricola: 2989\n",
      "Stipendio: 300000\n",
      "\n",
      "\n",
      "Scegli un'operazione: \n",
      "Aggiungi impiegato - 1\n",
      "Aumenta stipendio di tutti - 2\n",
      "Aumenta stipendio singolo - 3\n",
      "Stampa lista impiegati - 4\n",
      "Esci - 5\n"
     ]
    },
    {
     "name": "stdin",
     "output_type": "stream",
     "text": [
      "Inserisci ora il comando: 4\n"
     ]
    },
    {
     "ename": "NameError",
     "evalue": "name 'elemento' is not defined",
     "output_type": "error",
     "traceback": [
      "\u001b[1;31m---------------------------------------------------------------------------\u001b[0m",
      "\u001b[1;31mNameError\u001b[0m                                 Traceback (most recent call last)",
      "Cell \u001b[1;32mIn[7], line 16\u001b[0m\n\u001b[0;32m     13\u001b[0m     trova_e_aumenta(oggeto, lista_impiegati)\n\u001b[0;32m     14\u001b[0m \u001b[38;5;28;01melif\u001b[39;00m comando \u001b[38;5;241m==\u001b[39m \u001b[38;5;124m\"\u001b[39m\u001b[38;5;124m4\u001b[39m\u001b[38;5;124m\"\u001b[39m:\n\u001b[0;32m     15\u001b[0m     \u001b[38;5;66;03m# stampa lista\u001b[39;00m\n\u001b[1;32m---> 16\u001b[0m     \u001b[43mstampa_lista\u001b[49m\u001b[43m(\u001b[49m\u001b[43mlista_impiegati\u001b[49m\u001b[43m)\u001b[49m\n\u001b[0;32m     17\u001b[0m \u001b[38;5;28;01melse\u001b[39;00m:\n\u001b[0;32m     18\u001b[0m     \u001b[38;5;28mprint\u001b[39m(\u001b[38;5;124m\"\u001b[39m\u001b[38;5;124mInserisci un comando valido\u001b[39m\u001b[38;5;124m\"\u001b[39m)\n",
      "Cell \u001b[1;32mIn[6], line 2\u001b[0m, in \u001b[0;36mstampa_lista\u001b[1;34m(lista_impiegati)\u001b[0m\n\u001b[0;32m      1\u001b[0m \u001b[38;5;28;01mdef\u001b[39;00m \u001b[38;5;21mstampa_lista\u001b[39m(lista_impiegati):\n\u001b[1;32m----> 2\u001b[0m     \u001b[38;5;28;01mreturn\u001b[39;00m [\u001b[43melemento\u001b[49m\u001b[38;5;241m.\u001b[39mstampa_dettagli() \u001b[38;5;28;01mfor\u001b[39;00m impiegato \u001b[38;5;129;01min\u001b[39;00m lista_impiegati]\n",
      "\u001b[1;31mNameError\u001b[0m: name 'elemento' is not defined"
     ]
    }
   ],
   "source": [
    "lista_impiegati = []\n",
    "comando = comando_menu()\n",
    "while comando != \"5\":\n",
    "    if comando == \"1\":\n",
    "        # aggiungi impiegato\n",
    "        oggetto = aggiungi_impiegato()\n",
    "        lista_impiegati.append(oggetto)\n",
    "    elif comando == \"2\":\n",
    "        # aumenta tutti gli stipendi\n",
    "        aumenta_tutti_stipendi(lista_impiegati)\n",
    "    elif comando == \"3\":\n",
    "        # aumenta uno stipendio\n",
    "        trova_e_aumenta(oggeto, lista_impiegati)\n",
    "    elif comando == \"4\":\n",
    "        # stampa lista\n",
    "        stampa_lista(lista_impiegati)\n",
    "    else:\n",
    "        print(\"Inserisci un comando valido\")\n",
    "    comando = comando_menu()\n",
    "print(\"Programma terminato\")"
   ]
  },
  {
   "cell_type": "code",
   "execution_count": 41,
   "id": "9fcbb32b-a272-43c5-85cf-1012aea308e2",
   "metadata": {},
   "outputs": [],
   "source": [
    "Cri = Impiegato()"
   ]
  },
  {
   "cell_type": "raw",
   "id": "30848166-c1bc-4339-82e3-37e09c010909",
   "metadata": {},
   "source": [
    "Cri"
   ]
  },
  {
   "cell_type": "code",
   "execution_count": 44,
   "id": "fc69a6e9-4053-404a-b75c-8ffa14dfa915",
   "metadata": {},
   "outputs": [],
   "source": [
    "Cri.set_dettagli('Chrysanthi', 'Polyzoni', '3839', 2000)"
   ]
  },
  {
   "cell_type": "code",
   "execution_count": 45,
   "id": "a17f3a2f-0391-4544-950e-7520ef1dbbf9",
   "metadata": {},
   "outputs": [
    {
     "name": "stdout",
     "output_type": "stream",
     "text": [
      "Nome: Chrysanthi\n",
      "Cognome: Polyzoni\n",
      "Matricola: 3839\n",
      "Stipendio: 2000\n"
     ]
    }
   ],
   "source": [
    "Cri.stampa_dettagli()"
   ]
  },
  {
   "cell_type": "code",
   "execution_count": 46,
   "id": "73650041-b8f9-4a1a-9288-98cea8d4f52d",
   "metadata": {},
   "outputs": [
    {
     "data": {
      "text/plain": [
       "('Chrysanthi', 'Polyzoni', '3839', 2000)"
      ]
     },
     "execution_count": 46,
     "metadata": {},
     "output_type": "execute_result"
    }
   ],
   "source": [
    "Cri.get_dettagli()"
   ]
  },
  {
   "cell_type": "code",
   "execution_count": 47,
   "id": "77654568-511f-460d-97fe-5d528b19a51a",
   "metadata": {},
   "outputs": [
    {
     "data": {
      "text/plain": [
       "2200.0"
      ]
     },
     "execution_count": 47,
     "metadata": {},
     "output_type": "execute_result"
    }
   ],
   "source": [
    "Cri.aumenta_stipendio()"
   ]
  },
  {
   "cell_type": "code",
   "execution_count": null,
   "id": "2dd13030-1d67-4b60-95cd-36d2ddfdbf14",
   "metadata": {},
   "outputs": [],
   "source": [
    "print(dir(Cri))"
   ]
  },
  {
   "cell_type": "code",
   "execution_count": null,
   "id": "3195cd6e-848c-40a2-bb77-7455b44e7df3",
   "metadata": {},
   "outputs": [],
   "source": [
    "print(vars(Cri))"
   ]
  },
  {
   "cell_type": "code",
   "execution_count": null,
   "id": "847f8f91-6de4-474f-93b2-4d1f5bd2354b",
   "metadata": {},
   "outputs": [],
   "source": [
    "lista_impiegati = []\n",
    "comando = comando_menu()\n",
    "while comando != \"5\":\n",
    "    if comando == \"1\":\n",
    "        # aggiungi impiegato\n",
    "        nome = input(\"Inserisci nome:\")\n",
    "        cognome = input(\"Inserisci cognome:\")\n",
    "        matricola = input(\"Inserisci matricola:\")\n",
    "        stipendio = int(input(\"Inserisci stipendio:\"))\n",
    "        oggetto = Impiegato()\n",
    "        oggetto.set_dettagli(nome, cognome, matricola, stipendio)\n",
    "        oggetto.get_dettagli()\n",
    "        print(\"\\nHai inserito i seguenti dati:\")\n",
    "        oggetto.stampa_dettagli()\n",
    "        print(\"\\n\")\n",
    "        lista_impiegati.append(oggetto)\n",
    "    elif comando == \"2\":\n",
    "        # aumenta tutti gli stipendi\n",
    "        for elemento in lista_impiegati:\n",
    "            elemento.aumenta_stipendio()\n",
    "    elif comando == \"3\":\n",
    "        # aumenta uno stipendio\n",
    "        matricola = input(\"Cerca matricola:\")\n",
    "        trovato = False\n",
    "        for elemento in lista_impiegati:\n",
    "            if elemento.matricola == matricola:\n",
    "                elemento.aumenta_stipendio()\n",
    "                trovato = True\n",
    "        if not trovato:\n",
    "            print(\"L'utente cercato non esiste\")\n",
    "        else:\n",
    "            print(\"Aumentato\")\n",
    "    elif comando == \"4\":\n",
    "        # stampa lista\n",
    "        for elemento in lista_impiegati:\n",
    "            elemento.stampa_dettagli()\n",
    "    else:\n",
    "        print(\"Inserisci un comando valido\")\n",
    "    comando = comando_menu()\n",
    "print(\"Programma terminato\")"
   ]
  }
 ],
 "metadata": {
  "kernelspec": {
   "display_name": "Python 3 (ipykernel)",
   "language": "python",
   "name": "python3"
  },
  "language_info": {
   "codemirror_mode": {
    "name": "ipython",
    "version": 3
   },
   "file_extension": ".py",
   "mimetype": "text/x-python",
   "name": "python",
   "nbconvert_exporter": "python",
   "pygments_lexer": "ipython3",
   "version": "3.12.3"
  }
 },
 "nbformat": 4,
 "nbformat_minor": 5
}

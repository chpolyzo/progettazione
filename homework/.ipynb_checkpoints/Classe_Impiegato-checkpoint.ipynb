{
 "cells": [
  {
   "cell_type": "code",
   "execution_count": 1,
   "id": "eb7d8f81-ca77-4c48-a0dd-2e15baea771c",
   "metadata": {},
   "outputs": [],
   "source": [
    "class Impiegato(object):\n",
    "\n",
    "    def __init__(self):\n",
    "        self.nome = ''\n",
    "        self.cognome = ''\n",
    "        self.matricola = ''\n",
    "        self.stipendio = 0\n",
    "        \n",
    "    def set_dettagli(self, name, lastname, impiegato_id, wage):\n",
    "        self.nome = name\n",
    "        self.cognome = lastname\n",
    "        self.matricola = impiegato_id\n",
    "        self.stipendio = wage\n",
    "\n",
    "    def get_dettagli(self):\n",
    "        return self.nome, self.cognome, self.matricola, self.stipendio\n",
    "\n",
    "    def aumenta_stipendio(self):\n",
    "        return self.stipendio * 1.1\n",
    "\n",
    "    def stampa_dettagli(self):\n",
    "        print(\"Nome: {0}\".format(self.nome))\n",
    "        print(\"Cognome: {0}\".format(self.cognome))\n",
    "        print(\"Matricola: {0}\".format(self.matricola))\n",
    "        print(\"Stipendio: {0}\".format(self.stipendio))"
   ]
  },
  {
   "cell_type": "code",
   "execution_count": 2,
   "id": "b26fe223-8d9a-48ed-9322-1acbf4e0092c",
   "metadata": {},
   "outputs": [],
   "source": [
    "def comando_menu():\n",
    "    comandi = {\n",
    "        \"Scegli un'operazione:\":'',\n",
    "        \"Aggiungi impiegato\":'- 1',\n",
    "        \"Aumenta stipendio di tutti\":'- 2',\n",
    "        \"Aumenta stipendio singolo\":'- 3',\n",
    "        \"Stampa lista impiegati\": '- 4',\n",
    "        \"Esci\":'- 5'\n",
    "    }\n",
    "    for v, k in comandi.items():\n",
    "        print(v,k)\n",
    "    \n",
    "    comando = input(\"\\nInserisci ora il comando:\\n\")\n",
    "    return comando"
   ]
  },
  {
   "cell_type": "code",
   "execution_count": 3,
   "id": "0ce14443-a5be-403e-b8cf-7f88126c29b2",
   "metadata": {},
   "outputs": [],
   "source": [
    "def aggiungi_impiegato(lista_impiegati):\n",
    "        nome = input(\"Inserisci nome:\")\n",
    "        cognome = input(\"Inserisci cognome:\")\n",
    "        matricola = input(\"Inserisci matricola:\")\n",
    "        stipendio = int(input(\"Inserisci stipendio:\"))\n",
    "        oggetto = Impiegato()\n",
    "        oggetto.set_dettagli(nome, cognome, matricola, stipendio)\n",
    "        oggetto.get_dettagli()\n",
    "        print(\"\\nHai inserito i seguenti dati:\")\n",
    "        oggetto.stampa_dettagli()\n",
    "        lista_impiegati.append(oggetto)\n",
    "        print(\"La lista impiegati adesso è {0}\\n\".format(lista_impiegati))\n",
    "        return oggetto"
   ]
  },
  {
   "cell_type": "code",
   "execution_count": 25,
   "id": "9792c47a-168e-45a6-9680-5d75d21fa372",
   "metadata": {},
   "outputs": [],
   "source": [
    "def aumenta_tutti_stipendi(lista_impiegati):\n",
    "    for impiegato in lista_impiegati:\n",
    "        impiegato.aumenta_stipendio() \n",
    "        print(\"Lo stipendio ora è {0}:\".format(impiegato.aumenta_stipendio()))"
   ]
  },
  {
   "cell_type": "code",
   "execution_count": 61,
   "id": "a9b2e80b-4518-48ad-81c5-a869caf0744a",
   "metadata": {},
   "outputs": [],
   "source": [
    "def trova_e_aumenta(impiegato, lista_impiegati):\n",
    "    matricola = input(\"Cerca matricola:\")\n",
    "    print(lista_impiegati)\n",
    "    try:\n",
    "        print(\"La matricole è {}\".format(impiegato.matricola)) if impiegato.matricola == matricola)\n",
    "        impiegato.aumenta_stipendio() \n",
    "        print(\"Stipendio Aumentato\\n\")\n",
    "    except ValueError:\n",
    "        print(\"L'utente cercato non esiste\")"
   ]
  },
  {
   "cell_type": "code",
   "execution_count": 62,
   "id": "956d4a91-9a16-414b-bef1-3360a82eefee",
   "metadata": {},
   "outputs": [],
   "source": [
    "def stampa_lista(lista_impiegati):\n",
    "    for impiegato in lista_impiegati:\n",
    "        impiegato.stampa_dettagli() "
   ]
  },
  {
   "cell_type": "code",
   "execution_count": 63,
   "id": "72c711ea-dceb-4db9-ad79-ec4ee61566cf",
   "metadata": {},
   "outputs": [],
   "source": [
    "def salva_lista_in_file(lista_impiegati):\n",
    "    with open(\"impiegati.txt\", \"wb\") as f:\n",
    "        for i_object in lista_impiegati:\n",
    "            pickle.dump(i_object, f)\n",
    "            print(\"Oggetto salvato correttamente\")"
   ]
  },
  {
   "cell_type": "code",
   "execution_count": 64,
   "id": "18b37096-9f01-4975-b766-5616e3a9d23e",
   "metadata": {},
   "outputs": [],
   "source": [
    "def appendi_file_impiegati(impiegato, lista_impiegati):\n",
    "    with open(\"impiegati.txt\", \"rb\") as f:\n",
    "        lista_impiegati.append(impiegato)"
   ]
  },
  {
   "cell_type": "code",
   "execution_count": 65,
   "id": "51c0d254-4f08-4170-92ac-ba42fe0d5c5a",
   "metadata": {},
   "outputs": [],
   "source": [
    "def crea_file_se_non_esiste(file_path):\n",
    "    try:\n",
    "        with open(file_path, \"a+\") as file:\n",
    "            pass  # file esistente\n",
    "    except FileNotFoundError:\n",
    "        with open(file_path, \"w+\") as file:\n",
    "            pass  # crea file\n"
   ]
  },
  {
   "cell_type": "code",
   "execution_count": null,
   "id": "d133c9b2-5b92-4f68-b7a9-521e7af1075d",
   "metadata": {},
   "outputs": [
    {
     "name": "stdout",
     "output_type": "stream",
     "text": [
      "Scegli un'operazione: \n",
      "Aggiungi impiegato - 1\n",
      "Aumenta stipendio di tutti - 2\n",
      "Aumenta stipendio singolo - 3\n",
      "Stampa lista impiegati - 4\n",
      "Esci - 5\n"
     ]
    }
   ],
   "source": [
    "import pickle\n",
    "file_path = './impiegati.txt'\n",
    "\n",
    "\n",
    "lista_impiegati = []\n",
    "crea_file_se_non_esiste(file_path)\n",
    "comando = comando_menu()\n",
    "dict_funzioni = {\"1\":aggiungi_impiegato,\n",
    "                 \"2\":aumenta_tutti_stipendi,\n",
    "                 \"4\":stampa_lista}\n",
    "while comando != \"5\":\n",
    "    funzione_selezionata = dict_funzioni.get(comando)\n",
    "    try:\n",
    "        funzione_selezionata\n",
    "        funzione_selezionata(lista_impiegati)\n",
    "    except:\n",
    "        trova_e_aumenta(oggetto, lista_impiegati)\n",
    "    finally:\n",
    "        print(\"Inserisci un comando valido\")\n",
    "    salva_lista_in_file(lista_impiegati)\n",
    "    comando = comando_menu()"
   ]
  },
  {
   "cell_type": "code",
   "execution_count": null,
   "id": "cb25eead-67eb-484c-9a21-14011c577369",
   "metadata": {},
   "outputs": [],
   "source": [
    "import pickle\n",
    "file_path = './impiegati.txt'\n",
    "\n",
    "\n",
    "lista_impiegati = []\n",
    "crea_file_se_non_esiste(file_path)\n",
    "comando = comando_menu()\n",
    "dict_funzioni = {\"1\":aggiungi_impiegato,\n",
    "                 \"2\":aumenta_tutti_stipendi,\n",
    "                 \"2\":trova_e_aumenta,\n",
    "                 \"4\":stampa_lista,\n",
    "                }\n",
    "                 \n",
    "while comando != \"5\":\n",
    "    if comando == \"1\":\n",
    "        # aggiungi impiegato\n",
    "        oggetto = aggiungi_impiegato(lista_impiegati)\n",
    "        #salva_file_impiegati(oggetto, lista_impiegati)\n",
    "        #appendi_file_impiegati(oggetto, lista_impiegati)\n",
    "        \n",
    "    elif comando == \"2\":\n",
    "        # aumenta tutti gli stipendi\n",
    "        aumenta_tutti_stipendi(lista_impiegati)\n",
    "    elif comando == \"3\":\n",
    "        # aumenta uno stipendio\n",
    "        trova_e_aumenta(oggetto, lista_impiegati)\n",
    "    elif comando == \"4\":\n",
    "        # stampa lista\n",
    "        stampa_lista(lista_impiegati)\n",
    "    else:\n",
    "        print(\"Inserisci un comando valido\")\n",
    "    salva_lista_in_file(lista_impiegati)\n",
    "    \n",
    "    comando = comando_menu()\n",
    "print(\"Programma terminato\")"
   ]
  },
  {
   "cell_type": "code",
   "execution_count": 38,
   "id": "2dd13030-1d67-4b60-95cd-36d2ddfdbf14",
   "metadata": {},
   "outputs": [
    {
     "name": "stdout",
     "output_type": "stream",
     "text": [
      "['__class__', '__delattr__', '__dict__', '__dir__', '__doc__', '__eq__', '__format__', '__ge__', '__getattribute__', '__getstate__', '__gt__', '__hash__', '__init__', '__init_subclass__', '__le__', '__lt__', '__module__', '__ne__', '__new__', '__reduce__', '__reduce_ex__', '__repr__', '__setattr__', '__sizeof__', '__str__', '__subclasshook__', '__weakref__', 'aumenta_stipendio', 'cognome', 'get_dettagli', 'matricola', 'nome', 'set_dettagli', 'stampa_dettagli', 'stipendio']\n"
     ]
    }
   ],
   "source": [
    "print(dir(Cri))"
   ]
  },
  {
   "cell_type": "code",
   "execution_count": 39,
   "id": "3195cd6e-848c-40a2-bb77-7455b44e7df3",
   "metadata": {},
   "outputs": [
    {
     "name": "stdout",
     "output_type": "stream",
     "text": [
      "{'nome': 'Chrysanthi', 'cognome': 'Polyzoni', 'matricola': '3839', 'stipendio': 2000}\n"
     ]
    }
   ],
   "source": [
    "print(vars(Cri))"
   ]
  }
 ],
 "metadata": {
  "kernelspec": {
   "display_name": "Python 3 (ipykernel)",
   "language": "python",
   "name": "python3"
  },
  "language_info": {
   "codemirror_mode": {
    "name": "ipython",
    "version": 3
   },
   "file_extension": ".py",
   "mimetype": "text/x-python",
   "name": "python",
   "nbconvert_exporter": "python",
   "pygments_lexer": "ipython3",
   "version": "3.12.3"
  }
 },
 "nbformat": 4,
 "nbformat_minor": 5
}

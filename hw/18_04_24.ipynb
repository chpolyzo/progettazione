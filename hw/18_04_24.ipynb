{
 "cells": [
  {
   "cell_type": "markdown",
   "id": "7c409385-cf75-4322-87c2-94af4401e9a9",
   "metadata": {},
   "source": [
    "### Calcolare tassa per sosta veicolo"
   ]
  },
  {
   "cell_type": "code",
   "execution_count": 18,
   "id": "60dd3745-c50d-4816-9f69-f627928f273b",
   "metadata": {},
   "outputs": [
    {
     "name": "stdin",
     "output_type": "stream",
     "text": [
      "Inserisci altezza:  10\n",
      "Inserisci larghezza:  10\n"
     ]
    },
    {
     "name": "stdout",
     "output_type": "stream",
     "text": [
      "La tassa da pagare è: 930.0\n"
     ]
    }
   ],
   "source": [
    "def input_numero_positivo(messaggio):\n",
    "    numero = 0\n",
    "    is_numero_inserito = False # variabile sentinella - variabile flag per il ciclo\n",
    "    while not is_numero_inserito:\n",
    "        string_inserita = input(messaggio)\n",
    "        try:\n",
    "            numero = float(string_inserita)\n",
    "            if numero > 0:\n",
    "                is_numero_inserito = True\n",
    "            else:\n",
    "                print(\"Il numero inserito è negativo, riprova\")\n",
    "        except Exception:\n",
    "            print ('La stringa inserita non è un numero')\n",
    "    return numero\n",
    "\n",
    "\n",
    "def calcola_tassa(misura1, misura2):\n",
    "    COSTANTE_TASSA = 9.3 # questa la useremo come costante\n",
    "    tassa = misura1 * misura2 * COSTANTE_TASSA\n",
    "    return tassa\n",
    "\n",
    "\n",
    "def stampa_tassa(tassa):\n",
    "    # attenzione: tassa è un numero, per poterlo concatenare bisogna convertirlo in stringa\n",
    "    print(\"La tassa da pagare è: {0}\".format(round(tassa, 1)))\n",
    "\n",
    "altezza = input_numero_positivo(\"Inserisci altezza: \")\n",
    "larghezza = input_numero_positivo(\"Inserisci larghezza: \")\n",
    "tassa = calcola_tassa(altezza, larghezza)\n",
    "stampa_tassa(tassa)\n"
   ]
  },
  {
   "cell_type": "markdown",
   "id": "08e72978-353c-40bb-ac2a-8bdc30ce2a9e",
   "metadata": {},
   "source": [
    "### Calcolare il volume di un cilindro conoscendo raggio e altezza"
   ]
  },
  {
   "cell_type": "code",
   "execution_count": 2,
   "id": "aca6fb6b-3269-438d-ab5c-5e2aeaace405",
   "metadata": {},
   "outputs": [
    {
     "name": "stdin",
     "output_type": "stream",
     "text": [
      "Inserisci altezza (numero intero positivo):  10\n",
      "Inserisci raggio (numero intero positivo):  10\n"
     ]
    },
    {
     "name": "stdout",
     "output_type": "stream",
     "text": [
      "Il volume è 3141.593\n"
     ]
    }
   ],
   "source": [
    "import math\n",
    "\n",
    "altezza = int(input(\"Inserisci altezza (numero intero positivo): \"))\n",
    "raggio = int(input(\"Inserisci raggio (numero intero positivo): \"))\n",
    "def calcolo_volume(altezza, raggio):\n",
    "    volume = math.pi * int(raggio)**2 * int(altezza)\n",
    "    print(\"Il volume è {0}\".format(round(volume, 3)))\n",
    "\n",
    "calcolo_volume(altezza, raggio)"
   ]
  },
  {
   "cell_type": "markdown",
   "id": "967edfe0-bdd7-4949-a31f-54d47b898c5a",
   "metadata": {},
   "source": [
    "### Calcolare la percentuale di votanti \n",
    "sul totale degli iscritti, calcolare le percentuali dei si e dei no rispetto al numero dei votanti\n",
    "Vengono forniti da tastiera i risultati di un referendum:\n",
    "\n",
    "- Numero iscritti a votare\n",
    "- Numero votanti\n",
    "- Numero si\n",
    "- Numero no"
   ]
  },
  {
   "cell_type": "code",
   "execution_count": 19,
   "id": "2f8d33c2-dd90-4a45-a5a1-a2f3ccabdee4",
   "metadata": {},
   "outputs": [
    {
     "name": "stdin",
     "output_type": "stream",
     "text": [
      "Inserisci numero iscritti:  10\n",
      "Inserisci numero votanti:  10\n",
      "Inserisci numero si:  4\n",
      "Inserisci numero no:  5\n"
     ]
    },
    {
     "name": "stdout",
     "output_type": "stream",
     "text": [
      "La percentuale dei votanti è 100.0 %\n",
      "La percentuale dei votandi si è 40.0 %\n",
      "La percentuale dei votandi no è 60.0 %\n"
     ]
    }
   ],
   "source": [
    "def input_numero_persone(messaggio):\n",
    "    numero = 0\n",
    "    is_numero_inserito = False # variabile sentinella - variabile flag per il ciclo\n",
    "    while not is_numero_inserito:\n",
    "        string_inserita = input(messaggio)\n",
    "        try:\n",
    "            numero = float(string_inserita)\n",
    "            if numero > 0:\n",
    "                is_numero_inserito = True\n",
    "            else:\n",
    "                print(\"Il numero inserito è negativo, riprova\")\n",
    "        except Exception:\n",
    "            print ('La stringa inserita non è un numero')\n",
    "    return numero\n",
    "\n",
    "def percentuale_votanti(iscritti, votanti):\n",
    "    return (votanti/iscritti)*100\n",
    "\n",
    "def percentuale_si(numero_si, votanti):\n",
    "    return (numero_si/votanti)*100\n",
    "\n",
    "def percentuale_no(numero_no, votanti):\n",
    "    return (numero_no/votanti)*100\n",
    "\n",
    "def stampa_voti(iscritti, votanti, numero_si, numero_no):\n",
    "    print(\"La percentuale dei votanti è {0} %\".format(round(percentuale_votanti(iscritti, iscritti), 1)))\n",
    "    print(\"La percentuale dei votandi si è {0} %\".format(round(percentuale_si(numero_si, votanti), 1)))\n",
    "    print(\"La percentuale dei votandi no è {0} %\".format(round(percentuale_si(numero_no, votanti), 1)))\n",
    "\n",
    "# iscritti = int(input(\"Inserisci numero iscritti (numero intero positivo): \"))\n",
    "# votanti = int(input(\"Inserisci numero votanti (numero intero positivo): \"))\n",
    "# numero_si = int(input(\"Inserisci numero votanti 'si' (numero intero positivo): \"))\n",
    "# numero_no = int(input(\"Inserisci numero votanti 'no' (numero intero positivo): \"))\n",
    "# stampa_voti(iscritti, votanti, numero_si, numero_no)\n",
    "\n",
    "iscritti = input_numero_persone(\"Inserisci numero iscritti: \")\n",
    "votanti = input_numero_persone(\"Inserisci numero votanti: \")\n",
    "numero_si = input_numero_persone(\"Inserisci numero si: \")\n",
    "input_numero_persone(\"Inserisci numero no: \")\n",
    "stampa_voti(iscritti, votanti, numero_si, numero_no)"
   ]
  }
 ],
 "metadata": {
  "kernelspec": {
   "display_name": "Python 3 (ipykernel)",
   "language": "python",
   "name": "python3"
  },
  "language_info": {
   "codemirror_mode": {
    "name": "ipython",
    "version": 3
   },
   "file_extension": ".py",
   "mimetype": "text/x-python",
   "name": "python",
   "nbconvert_exporter": "python",
   "pygments_lexer": "ipython3",
   "version": "3.12.3"
  }
 },
 "nbformat": 4,
 "nbformat_minor": 5
}
